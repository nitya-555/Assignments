{
  "nbformat": 4,
  "nbformat_minor": 0,
  "metadata": {
    "colab": {
      "provenance": [],
      "authorship_tag": "ABX9TyP3ha8VKgytQuy4GPZBlpUi",
      "include_colab_link": true
    },
    "kernelspec": {
      "name": "python3",
      "display_name": "Python 3"
    },
    "language_info": {
      "name": "python"
    }
  },
  "cells": [
    {
      "cell_type": "markdown",
      "metadata": {
        "id": "view-in-github",
        "colab_type": "text"
      },
      "source": [
        "<a href=\"https://colab.research.google.com/github/nitya-555/Assignments/blob/Assignments-of-Python/tictactoe.ipynb\" target=\"_parent\"><img src=\"https://colab.research.google.com/assets/colab-badge.svg\" alt=\"Open In Colab\"/></a>"
      ]
    },
    {
      "cell_type": "code",
      "execution_count": 1,
      "metadata": {
        "colab": {
          "base_uri": "https://localhost:8080/"
        },
        "id": "WpskZr87i_Zn",
        "outputId": "1021f214-c574-499d-8afd-cb65231288c9"
      },
      "outputs": [
        {
          "output_type": "stream",
          "name": "stdout",
          "text": [
            "\n",
            "Player o turns:\n",
            "- - - \n",
            "- - - \n",
            "- - - \n",
            "Enter row and column to fix the spot:1 1\n",
            "\n",
            "Player x turns:\n",
            "o - - \n",
            "- - - \n",
            "- - - \n",
            "Enter row and column to fix the spot:2 1\n",
            "\n",
            "Player o turns:\n",
            "o - - \n",
            "x - - \n",
            "- - - \n",
            "Enter row and column to fix the spot:3 1\n",
            "\n",
            "Player x turns:\n",
            "o - - \n",
            "x - - \n",
            "o - - \n",
            "Enter row and column to fix the spot:1 2\n",
            "\n",
            "Player o turns:\n",
            "o x - \n",
            "x - - \n",
            "o - - \n",
            "Enter row and column to fix the spot:2 2\n",
            "\n",
            "Player x turns:\n",
            "o x - \n",
            "x o - \n",
            "o - - \n",
            "Enter row and column to fix the spot:3 2\n",
            "\n",
            "Player o turns:\n",
            "o x - \n",
            "x o - \n",
            "o x - \n",
            "Enter row and column to fix the spot:1 3\n",
            "\n",
            "The Player o Wins!!!\n",
            "\n",
            "Player x turns:\n",
            "- - - \n",
            "- - - \n",
            "- - - \n"
          ]
        }
      ],
      "source": [
        "import random\n",
        "mat=[]\n",
        "pl=['x','o']\n",
        "a=True\n",
        "count=0\n",
        "p=random.choice(pl)\n",
        "def play():\n",
        "    global p\n",
        "    for i in range(0,3):\n",
        "        row=[]\n",
        "        for j in range(0,3):\n",
        "                row.append('-')\n",
        "        mat.append(row)\n",
        "    while a:\n",
        "        print(\"\\nPlayer\",p,\"turns:\")\n",
        "        for i in range(0,3):\n",
        "            for j in range(0,3):\n",
        "                print(mat[i][j],end=\" \")\n",
        "            print()\n",
        "        enter()\n",
        "        if p=='x':\n",
        "            p='o'\n",
        "        else:\n",
        "            p='x'\n",
        "def enter():\n",
        "    global count\n",
        "    ch=True\n",
        "    while ch:\n",
        "        r,c=list(map(int,input(\"Enter row and column to fix the spot:\").split()))\n",
        "        if mat[r-1][c-1]=='-':\n",
        "            mat[r-1][c-1]=p\n",
        "            ch=False\n",
        "        else:\n",
        "            print(\"Already Occupied!!!\")\n",
        "    count+=1\n",
        "    if count>=5:\n",
        "        decide()\n",
        "def decide():\n",
        "    global a\n",
        "    for i in range(0,3):\n",
        "        if mat[i][0]==p and mat[i][1]==p and mat[i][2]==p:\n",
        "            print(\"\\nThe Player\",p,\"Wins!!!\")\n",
        "            a=False\n",
        "        elif mat[0][i]==p and mat[1][i]==p and mat[2][i]==p:\n",
        "            print(\"\\nThe Player\",p,\"Wins!!!\")\n",
        "            a=False\n",
        "    if mat[0][0]==p and mat[1][1]==p and mat[2][2]==p:\n",
        "        print(\"\\nThe Player\",p,\"Wins!!!\")\n",
        "        a=False\n",
        "    elif mat[0][2]==p and mat[1][1]==p and mat[2][0]==p:\n",
        "        print(\"\\nThe Player\",p,\"Wins!!!\")\n",
        "        a=False\n",
        "    if count==9 and a:\n",
        "        print(\"\\nThe Game Ties!!!\")\n",
        "        a=False\n",
        "play()"
      ]
    },
    {
      "cell_type": "code",
      "source": [],
      "metadata": {
        "id": "riCncanCK5M8"
      },
      "execution_count": null,
      "outputs": []
    }
  ]
}